{
 "cells": [
  {
   "cell_type": "markdown",
   "metadata": {},
   "source": [
    "Setting virtual environment:\n",
    "python -m venv env\n",
    ".\\env\\Scripts\\activate\n",
    "base model\n",
    "Importing Packages:\n",
    "pip install -U langchain-ollama\n",
    "pip install langchain\n",
    "pip install crewai\n",
    "pip install --upgrade langchain langchain_community\n",
    "pip install pypdf\n",
    "pip install faiss-cpu\n",
    "pip install duckduckgo-search\n",
    "pip install langchain-groq\n",
    "pip install streamlit\n",
    "pip install -U sentence-transformers\n",
    "pip install langchain_huggingface\n",
    "running the streamlit code: python -m streamlit run app.py"
   ]
  },
  {
   "cell_type": "code",
   "execution_count": 1,
   "metadata": {},
   "outputs": [],
   "source": [
    "import langchain\n",
    "from langchain_ollama import OllamaLLM\n",
    "from langchain.prompts import PromptTemplate\n",
    "from langchain.chains import LLMChain\n",
    "from langchain_core.output_parsers import StrOutputParser\n",
    "import os\n",
    "from dotenv import load_dotenv\n",
    "from langchain.text_splitter import RecursiveCharacterTextSplitter\n",
    "from langchain_community.vectorstores import FAISS, DocArrayInMemorySearch\n",
    "from langchain_core.runnables import RunnablePassthrough, RunnableParallel\n",
    "from langchain_ollama import OllamaEmbeddings\n",
    "from langchain_community.document_loaders import TextLoader\n",
    "from langchain_community.document_loaders import PyPDFLoader"
   ]
  },
  {
   "cell_type": "code",
   "execution_count": 2,
   "metadata": {},
   "outputs": [],
   "source": [
    "from langchain.text_splitter import CharacterTextSplitter\n",
    "from langchain.tools import DuckDuckGoSearchRun\n",
    "from langchain.agents import initialize_agent, AgentType, load_tools\n",
    "from langchain.chains import RetrievalQA\n",
    "from langchain_core.prompts import ChatPromptTemplate\n",
    "from langchain_groq import ChatGroq\n",
    "from langchain.chains import create_retrieval_chain\n",
    "from langchain.chains.combine_documents import create_stuff_documents_chain\n",
    "from langchain.memory import ConversationBufferWindowMemory\n",
    "from langchain_core.messages import HumanMessage, AIMessage\n", 
    "from langchain_huggingface import HuggingFaceEmbeddings"
   ]
  },
  {
   "cell_type": "code",
   "execution_count": 3,
   "metadata": {},
   "outputs": [],
   "source": [
    "llama_llm = OllamaLLM(model=\"llama3\")"
   ]
  },
  {
   "cell_type": "code",
   "execution_count": 4,
   "metadata": {},
   "outputs": [],
   "source": [
    "parser = StrOutputParser()\n",
    "llama_chain = llama_llm | parser"
   ]
  },
  {
   "cell_type": "code",
   "execution_count": 5,
   "metadata": {},
   "outputs": [],
   "source": [
    "file_loader = PyPDFLoader(\"Cricket Rules.pdf\")\n",
    "page = file_loader.load_and_split()"
   ]
  },
  {
   "cell_type": "code",
   "execution_count": 6,
   "metadata": {},
   "outputs": [],
   "source": [
    "splitter = RecursiveCharacterTextSplitter(chunk_size = 1000, chunk_overlap = 100)\n",
    "chunks = splitter.split_documents(page)"
   ]
  },
  {
   "cell_type": "code",
   "execution_count": 7,
   "metadata": {},
   "outputs": [],
   "source": [
    "embeddings = OllamaEmbeddings(\n",
    "    model=\"llama3\", )\n",
    "vector_database = FAISS.from_documents(chunks, embeddings) \n",
    "retriever = vector_database.as_retriever()"
   ]
  },
  {
   "cell_type": "code",
   "execution_count": 8,
   "metadata": {},
   "outputs": [],
   "source": [
    "example_template = (\"\"\"\n",
    "You are a AI powered chatbot designed to provide information and knowledge \n",
    "regarding the cricket sport based only on the context provided to you.\n",
    "Context = {context}\n",
    "Question = {question}\n",
    "\"\"\")"
   ]
  },
  {
   "cell_type": "code",
   "execution_count": 9,
   "metadata": {},
   "outputs": [
    {
     "name": "stdout",
     "output_type": "stream",
     "text": [
      "\n",
      "You are a AI powered chatbot designed to provide information and knowledge \n",
      "regarding the cricket sport based only on the context provided to you.\n",
      "Context = This is the provided context\n",
      "Question = Answer this question\n",
      "\n"
     ]
    }
   ],
   "source": [
    "prompt = PromptTemplate.from_template(template=example_template)\n",
    "print(prompt.format(\n",
    "    context = \"This is the provided context\",\n",
    "    question = \"Answer this question\"\n",
    "))"
   ]
  },
  {
   "cell_type": "code",
   "execution_count": 10,
   "metadata": {},
   "outputs": [],
   "source": [
    "result = RunnableParallel(context = retriever, question = RunnablePassthrough())"
   ]
  },
  {
   "cell_type": "code",
   "execution_count": 11,
   "metadata": {},
   "outputs": [],
   "source": [
    "final_chain = result | prompt | llama_llm | parser"
   ]
  },
  {
   "cell_type": "code",
   "execution_count": 12,
   "metadata": {},
   "outputs": [],
   "source": [
    "search = DuckDuckGoSearchRun(proxies=None, verify_ssl=True)"
   ]
  },
  {
   "cell_type": "code",
   "execution_count": 13,
   "metadata": {},
   "outputs": [
    {
     "data": {
      "text/plain": [
       "True"
      ]
     },
     "execution_count": 13,
     "metadata": {},
     "output_type": "execute_result"
    }
   ],
   "source": [
    "load_dotenv()"
   ]
  },
  {
   "cell_type": "code",
   "execution_count": 14,
   "metadata": {},
   "outputs": [],
   "source": [
    "groq_llm = ChatGroq(api_key=os.getenv(\"GROQ_API_KEY\"), temperature=0.3)"
   ]
  },
  {
   "cell_type": "code",
   "execution_count": 15,
   "metadata": {},
   "outputs": [],
   "source": [
    "document_chain = create_stuff_documents_chain(llama_llm,prompt, document_variable_name=\"context\",\n",
    "output_parser=parser)\n",
    "\n",
    "retrieval_chain = create_retrieval_chain(retriever, document_chain)"
   ]
  },
  {
   "cell_type": "code",
   "execution_count": 38,
   "metadata": {},
   "outputs": [],
   "source": [
    "def get_answer(question):\n",
    "    try:\n",
    "        # Get relevant documents and their similarity scores\n",
    "        context = retriever.get_relevant_documents(question)\n",
    "        print(f\"Found {len(context)} context documents\")\n",
    "        \n",
    "        # Check if the context is actually relevant\n",
    "        question_words = set(question.lower().split())\n",
    "        context_text = \" \".join([doc.page_content.lower() for doc in context])\n",
    "        \n",
    "        matching_words = sum(1 for word in question_words if word in context_text)\n",
    "        is_relevant = matching_words >= 2\n",
    "        \n",
    "        if not is_relevant:\n",
    "            print(\"Context not relevant, using DuckDuckGo search...\")\n",
    "            search_result = search.run(question)\n",
    "            return f\"\"\"\n",
    "            DuckDuckGo Search Result:\n",
    "            {search_result}\n",
    "            \"\"\"\n",
    "        \n",
    "        print(\"Using PDF context for answer...\")\n",
    "        context_text = \"\\n\".join([doc.page_content for doc in context])\n",
    "        \n",
    "        groq_prompt = f\"\"\"\n",
    "        Use the following context from cricket rules to answer the question:\n",
    "        \n",
    "        Context: {context_text}\n",
    "        \n",
    "        Question: {question}\n",
    "        \n",
    "        If the context doesn't contain relevant information to answer the question, \n",
    "        please explicitly state that.\n",
    "        \"\"\"\n",
    "        \n",
    "        groq_answer = groq_llm.invoke(groq_prompt)\n",
    "        \n",
    "        # If Groq indicates no relevant information, fallback to DuckDuckGo\n",
    "        if any(phrase in groq_answer.content.lower() for phrase in \n",
    "              [\"does not contain\", \"no information\", \"cannot answer\", \"don't have\"]):\n",
    "            print(\"Groq indicated no relevant information, falling back to DuckDuckGo...\")\n",
    "            search_result = search.run(question)\n",
    "            return f\"\"\"\n",
    "            DuckDuckGo Search Result (Fallback):\n",
    "            {search_result}\n",
    "            \"\"\"\n",
    "        \n",
    "        return f\"\"\"\n",
    "        Groq API Response (Based on PDF context):\n",
    "        {groq_answer.content}\n",
    "        \"\"\"\n",
    "            \n",
    "    except Exception as e:\n",
    "        print(f\"Error occurred: {str(e)}\")\n",
    "        search_result = search.run(question)\n",
    "        return f\"\"\"\n",
    "        DuckDuckGo Search Result (Error Fallback):\n",
    "        {search_result}\n",
    "        \"\"\""
   ]
  },
  {
   "cell_type": "code",
   "execution_count": 45,
   "metadata": {},
   "outputs": [
    {
     "name": "stdout",
     "output_type": "stream",
     "text": [
      "Found 4 context documents\n",
      "Using PDF context for answer...\n",
      "\n",
      "        Groq API Response (Based on PDF context):\n",
      "        The bowl used in cricket is used by the bowler to deliver the ball to the batsman. The bowler aims to get the batsman out by either hitting the wickets directly with the ball, having the batsman hit the ball in the air and catching it before it touches the ground, or by having the batsman hit the ball onto the wickets and dislodging the bails. The bowl is thrown in a specific way, using a particular action and following certain rules, in order to make it challenging for the batsman to hit the ball.\n",
      "        \n"
     ]
    }
   ],
   "source": [
    "question = \"what is the bowl used in cricket for?\"\n",
    "print(get_answer(question))"
   ]
  },
  {
   "cell_type": "code",
   "execution_count": 46,
   "metadata": {},
   "outputs": [
    {
     "name": "stdout",
     "output_type": "stream",
     "text": [
      "\n",
      "=== Cricket Rules Chatbot ===\n",
      "Special commands:\n",
      "- 'quit': Exit the chat\n",
      "- 'history': Show chat history\n",
      "--------------------------------------------------\n",
      "\n",
      "Question: what is the bat used in cricket for?\n",
      "--------------------------------------------------\n",
      "Found 4 context documents\n",
      "Using PDF context for answer...\n",
      "\n",
      "Assistant:\n",
      "\n",
      "        Groq API Response (Based on PDF context):\n",
      "        The context provided does not give information about the specific use of the bat in cricket, but it does mention several players and their achievements in the sport. The bat is one of the essential pieces of equipment in cricket, used by the batsman to hit the ball and score runs. If you need more detailed information about how the bat is used in cricket, I would recommend looking up the rules and gameplay explanations of cricket.\n",
      "        \n",
      "--------------------------------------------------\n",
      "\n",
      "Question: \n",
      "--------------------------------------------------\n",
      "Found 4 context documents\n",
      "Context not relevant, using DuckDuckGo search...\n",
      "Error occurred: keywords is mandatory\n",
      "\n",
      "An error occurred: keywords is mandatory\n",
      "--------------------------------------------------\n",
      "\n",
      "Question: what is the result of 18*18?\n",
      "--------------------------------------------------\n",
      "Found 4 context documents\n",
      "Using PDF context for answer...\n",
      "\n",
      "Assistant:\n",
      "\n",
      "        Groq API Response (Based on PDF context):\n",
      "        The context does not provide information regarding the result of 18*18. The provided context mainly discusses cricket rules, players, and the international cricket council. Therefore, the result of 18 multiplied by 18 is 324.\n",
      "        \n",
      "--------------------------------------------------\n",
      "\n",
      "Question: what is the capital of montana\n",
      "--------------------------------------------------\n",
      "Found 4 context documents\n",
      "Using PDF context for answer...\n",
      "Groq indicated no relevant information, falling back to DuckDuckGo...\n",
      "\n",
      "Assistant:\n",
      "\n",
      "            DuckDuckGo Search Result (Fallback):\n",
      "            Montana is a state in the western United States with a diverse landscape of mountains, plains, and forests. Its capital is Helena, and it became the 41st state in 1889. Montana is a landlocked state in the Western United States with Helena as its capital. Learn about its history, geography, economy, and culture from this comprehensive Wikipedia article. Montana is a landlocked state in the western US, with Helena as its capital and Billings as its largest city. Learn about its geography, history, minerals, rivers, and more from this web page. The largest city in Montana is Billings and the capital city is Helena. Billings is the only city in Montana to have a population of more than 100,000 people. Just over 10 percent of the population of Montana lives in Billings. 28. There are more cattle than human beings in Montana. What is the capital of Montana? The capital of Montana is Helena, whose most recent population was 34,464. Helena is the 6th largest city in the state of Montana. What is the fastest growing city in Montana? Among the 100 largest cities in Montana, the fastest growing city is Belgrade, whose population has grown 110.7% since the year 2000.\n",
      "            \n",
      "--------------------------------------------------\n",
      "\n",
      "Question: quit\n",
      "--------------------------------------------------\n",
      "\n",
      "Goodbye!\n"
     ]
    }
   ],
   "source": [
    "conversation_memory = ConversationBufferWindowMemory(\n",
    "    k = 5,\n",
    "    memory_key=\"chat_history\",\n",
    "    return_messages=True\n",
    ")\n",
    "\n",
    "def chat():\n",
    "    print(\"\\n=== Cricket Rules Chatbot ===\")\n",
    "    print(\"Special commands:\")\n",
    "    print(\"- 'quit': Exit the chat\")\n",
    "    print(\"- 'history': Show chat history\")\n",
    "    print(\"-\" * 50)\n",
    "    \n",
    "    while True:\n",
    "        # Get user input\n",
    "        user_input = input(\"You: \")\n",
    "        print(f\"\\nQuestion: {user_input}\")\n",
    "        print(\"-\" * 50)\n",
    "        \n",
    "        # Check for special commands\n",
    "        if user_input.lower() == 'quit':\n",
    "            print(\"\\nGoodbye!\")\n",
    "            break\n",
    "        elif user_input.lower() == 'history':\n",
    "            # Get messages from memory\n",
    "            chat_history = conversation_memory.load_memory_variables({})[\"chat_history\"]\n",
    "            print(\"\\nChat History:\")\n",
    "            if not chat_history:\n",
    "                print(\"No chat history yet!\")\n",
    "            else:\n",
    "                print(chat_history)\n",
    "            print(\"-\" * 50)\n",
    "            continue\n",
    "        \n",
    "        # Get and display response\n",
    "        try:\n",
    "            response = get_answer(user_input)\n",
    "            print(\"\\nAssistant:\")\n",
    "            print(response)\n",
    "            print(\"-\" * 50)\n",
    "            \n",
    "            # Save to memory (using the correct format)\n",
    "            conversation_memory.save_context(\n",
    "                {\"input\": user_input},\n",
    "                {\"output\": response}\n",
    "            )\n",
    "            \n",
    "        except Exception as e:\n",
    "            print(f\"\\nAn error occurred: {str(e)}\")\n",
    "            print(\"-\" * 50)\n",
    "\n",
    "# Run the chatbot\n",
    "chat()"
   ]
  }
 ],
 "metadata": {
  "kernelspec": {
   "display_name": "base",
   "language": "python",
   "name": "python3"
  },
  "language_info": {
   "codemirror_mode": {
    "name": "ipython",
    "version": 3
   },
   "file_extension": ".py",
   "mimetype": "text/x-python",
   "name": "python",
   "nbconvert_exporter": "python",
   "pygments_lexer": "ipython3",
   "version": "3.9.13"
  }
 },
 "nbformat": 4,
 "nbformat_minor": 2
}
